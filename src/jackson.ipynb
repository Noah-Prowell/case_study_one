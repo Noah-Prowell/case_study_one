{
 "cells": [
  {
   "cell_type": "code",
   "execution_count": 1,
   "metadata": {},
   "outputs": [],
   "source": [
    "import numpy as np\n",
    "import pandas as pd\n",
    "import matplotlib.pyplot as plt\n",
    "%matplotlib inline\n",
    "# Increases the DPI of the plots, which makes them look better.\n",
    "%config InlineBackend.figure_format = 'retina'\n",
    "# Changes the style of the plots.\n",
    "# See documentation for examples of different styles: https://matplotlib.org/3.2.1/gallery/style_sheets/style_sheets_reference.html\n",
    "plt.style.use('ggplot')"
   ]
  },
  {
   "cell_type": "code",
   "execution_count": 33,
   "metadata": {},
   "outputs": [
    {
     "data": {
      "text/plain": [
       "Indicator Code\n",
       "SH.HIV.KNOW.FE.ZS    False\n",
       "SH.HIV.KNOW.MA.ZS    False\n",
       "SP.ADO.TFRT          False\n",
       "SH.HIV.TOTL          False\n",
       "SH.HIV.INCD.TL       False\n",
       "                     ...  \n",
       "SH.MLR.NETS.ZS       False\n",
       "SH.MLR.SPF2.ZS       False\n",
       "SN.ITK.VITA.ZS       False\n",
       "SP.DYN.WFRT          False\n",
       "SH.DYN.AIDS.FE.ZS    False\n",
       "Name: Indicator Name, Length: 345, dtype: bool"
      ]
     },
     "execution_count": 33,
     "metadata": {},
     "output_type": "execute_result"
    }
   ],
   "source": [
    "df = pd.read_csv('../data/data.csv')\n",
    "df_US = df[df['Country Name'] == 'United States'] #make US only Dataframe\n",
    "df_US = df_US.transpose()\n",
    "\n",
    "df_US.columns = df_US.iloc[3] #make the colums the values for row 4 (indicator code) \n",
    "df_US.drop(df_US.index[3], inplace=True) #drop the indicator code row since its now the column name\n",
    "# df_US = df_US.squeeze('columns') #squeezes df on the columns to eliminate duplicate indicator codes\n",
    "#set(df_US.columns)\n",
    "#set(df_US.loc[\"Indicator Name\"])\n",
    "\n",
    "def get_indicator_code(ind_name=''):\n",
    "    '''\n",
    "    if you dont give a value, then it will return a set of the Indicator Names.\n",
    "    this is useful to look through the Indicator Names and pick the ones you want to find codes for.\n",
    "    then, copy-paste the exact string needed to get the code'''\n",
    "    if len(ind_name) == 0:\n",
    "        return set(df_US.loc[\"Indicator Name\"])\n",
    "    else:\n",
    "        '''\n",
    "        Breakdown:\n",
    "        df_US.cloumns gives us a pandas index of columns\n",
    "        df_US == ind_name gives a boolean df where any value(s) == ind_name.\n",
    "        then, .loc['Indicator Name'] gives us the Indicator Name row as a series, with the bools from df_US == ind_name as the values\n",
    "        finally, the extra [0] slices out the Indicator Code value from the output series\n",
    "        '''\n",
    "        return df_US.columns[(df_US == ind_name).loc['Indicator Name']][0] \n",
    "    \n",
    "get_indicator_code('Fertility rate, total (births per woman)')"
   ]
  },
  {
   "cell_type": "code",
   "execution_count": null,
   "metadata": {},
   "outputs": [],
   "source": []
  },
  {
   "cell_type": "code",
   "execution_count": null,
   "metadata": {},
   "outputs": [],
   "source": []
  }
 ],
 "metadata": {
  "kernelspec": {
   "display_name": "Python 3",
   "language": "python",
   "name": "python3"
  },
  "language_info": {
   "codemirror_mode": {
    "name": "ipython",
    "version": 3
   },
   "file_extension": ".py",
   "mimetype": "text/x-python",
   "name": "python",
   "nbconvert_exporter": "python",
   "pygments_lexer": "ipython3",
   "version": "3.7.6"
  }
 },
 "nbformat": 4,
 "nbformat_minor": 4
}
